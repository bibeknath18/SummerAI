{
 "cells": [
  {
   "cell_type": "code",
   "execution_count": 1,
   "id": "6ce0c860-3976-4605-8f98-429918f3f7a3",
   "metadata": {},
   "outputs": [],
   "source": [
    "import numpy as np\n",
    "import pandas as pd\n",
    "import matplotlib.pyplot as plt"
   ]
  },
  {
   "cell_type": "code",
   "execution_count": 2,
   "id": "c1421d3d-4647-4c8a-af01-ec216deea4ed",
   "metadata": {},
   "outputs": [],
   "source": [
    "df=pd.read_csv(\"C:\\\\Users\\\\HP\\\\Downloads\\\\Cars.csv\")"
   ]
  },
  {
   "cell_type": "code",
   "execution_count": 5,
   "id": "9f658e80-adbe-44c4-b5a1-bf35f1ba6dd7",
   "metadata": {},
   "outputs": [],
   "source": [
    "car_with_max_hp = df.loc[df['horsepower'].idxmax()]"
   ]
  },
  {
   "cell_type": "code",
   "execution_count": 6,
   "id": "0f9c741c-f4ea-4975-abba-be62aa74bbef",
   "metadata": {},
   "outputs": [
    {
     "name": "stdout",
     "output_type": "stream",
     "text": [
      "mpg                           16.0\n",
      "cylinders                        8\n",
      "displacement                 400.0\n",
      "horsepower                   230.0\n",
      "weight                        4278\n",
      "acceleration                   9.5\n",
      "model_year                      73\n",
      "origin                         usa\n",
      "name            pontiac grand prix\n",
      "Name: 116, dtype: object\n"
     ]
    }
   ],
   "source": [
    "print(car_with_max_hp)"
   ]
  },
  {
   "cell_type": "code",
   "execution_count": 7,
   "id": "6011230a-349a-42bd-855c-432f77a36d7b",
   "metadata": {},
   "outputs": [
    {
     "name": "stdout",
     "output_type": "stream",
     "text": [
      "36\n"
     ]
    }
   ],
   "source": [
    "count = (df['mpg'] >= 35).sum()\n",
    "print(count)\n"
   ]
  },
  {
   "cell_type": "code",
   "execution_count": 8,
   "id": "bf15724c-66e8-40ab-b752-bb9bb57dbdab",
   "metadata": {},
   "outputs": [
    {
     "name": "stdout",
     "output_type": "stream",
     "text": [
      "Most common origin: usa\n"
     ]
    }
   ],
   "source": [
    "filtered_df = df[(df['horsepower'] > 100) & (df['weight'] < 3000)]\n",
    "\n",
    "# Find the most common origin\n",
    "most_common_origin = filtered_df['origin'].value_counts().idxmax()\n",
    "\n",
    "print(\"Most common origin:\", most_common_origin)"
   ]
  },
  {
   "cell_type": "code",
   "execution_count": 9,
   "id": "7d87d29c-9808-4bb1-920e-c5eb555ac08c",
   "metadata": {},
   "outputs": [
    {
     "name": "stdout",
     "output_type": "stream",
     "text": [
      "Mean acceleration of Japanese cars: 16.17\n"
     ]
    }
   ],
   "source": [
    "mean_accel_japan = df[df['origin'] == 'japan']['acceleration'].mean().round(2)\n",
    "print(\"Mean acceleration of Japanese cars:\", mean_accel_japan)\n"
   ]
  },
  {
   "cell_type": "code",
   "execution_count": 12,
   "id": "a99f30e9-0745-4c5b-9c48-67fb66913356",
   "metadata": {},
   "outputs": [
    {
     "name": "stdout",
     "output_type": "stream",
     "text": [
      "Year with highest average MPG: 80 (33.69655172413793 mpg)\n"
     ]
    }
   ],
   "source": [
    "\n",
    "avg_mpg_by_year = df.groupby('model_year')['mpg'].mean()\n",
    "\n",
    "# Find the year with the highest average mpg\n",
    "year_with_highest_avg_mpg = avg_mpg_by_year.idxmax()\n",
    "highest_avg_mpg = avg_mpg_by_year.max()\n",
    "\n",
    "print(f\"Year with highest average MPG: {year_with_highest_avg_mpg} ({highest_avg_mpg} mpg)\")\n"
   ]
  },
  {
   "cell_type": "code",
   "execution_count": null,
   "id": "dab5c20a-8ab6-4125-a0b9-f61d03b7b27f",
   "metadata": {},
   "outputs": [],
   "source": []
  }
 ],
 "metadata": {
  "kernelspec": {
   "display_name": "Python 3 (ipykernel)",
   "language": "python",
   "name": "python3"
  },
  "language_info": {
   "codemirror_mode": {
    "name": "ipython",
    "version": 3
   },
   "file_extension": ".py",
   "mimetype": "text/x-python",
   "name": "python",
   "nbconvert_exporter": "python",
   "pygments_lexer": "ipython3",
   "version": "3.12.7"
  }
 },
 "nbformat": 4,
 "nbformat_minor": 5
}
